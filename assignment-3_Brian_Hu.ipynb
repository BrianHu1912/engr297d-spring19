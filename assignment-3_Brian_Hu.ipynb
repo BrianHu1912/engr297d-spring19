{
 "cells": [
  {
   "cell_type": "code",
   "execution_count": 88,
   "metadata": {},
   "outputs": [],
   "source": [
    "#For this assignment use the dataset from data.csv\n",
    "#write a function to load dataset and return it\n",
    "\n",
    "import numpy as np\n",
    "\n",
    "def load_data():\n",
    "    #To-Do\n",
    "    points = []\n",
    "    data = np.genfromtxt('data.csv', delimiter = \",\")\n",
    "    \n",
    "    for i in range(len(data)):\n",
    "        x = np.asarray(data[i,0])\n",
    "        y = np.asarray(data[i,1])\n",
    "        points.append((x,y))\n",
    "    \n",
    "    return points"
   ]
  },
  {
   "cell_type": "code",
   "execution_count": 89,
   "metadata": {},
   "outputs": [],
   "source": [
    "points = load_data()\n",
    "#implement stochastic gradient descent and show output\n",
    "\n",
    "def sF(w,i):\n",
    "    x,y = points[i]\n",
    "    value = (x.dot(w)-y)**2\n",
    "    \n",
    "    return value\n",
    "\n",
    "def sdF(w,i):\n",
    "    x,y = points[i]\n",
    "    value = 2*(x.dot(w)-y)*x\n",
    "    \n",
    "    return value\n",
    "\n",
    "def stochasticGradientD():\n",
    "    w = np.zeros(1)\n",
    "    l = .01\n",
    "    for i in range(50):\n",
    "        for j in range(len(points)):\n",
    "            f = sF(w,j)\n",
    "            g = sdF(w,j)\n",
    "            w = w - l * g\n",
    "        print(\"iteration : {},w : {}, f : {}, g : {}\".format(i,w,f,g))"
   ]
  },
  {
   "cell_type": "code",
   "execution_count": 91,
   "metadata": {
    "scrolled": true
   },
   "outputs": [
    {
     "name": "stdout",
     "output_type": "stream",
     "text": [
      "iteration : 0,w : [2.9593174], f : [2.09799887], g : [2.4790993]\n",
      "iteration : 1,w : [2.9593174], f : [2.09799887], g : [2.4790993]\n",
      "iteration : 2,w : [2.9593174], f : [2.09799887], g : [2.4790993]\n",
      "iteration : 3,w : [2.9593174], f : [2.09799887], g : [2.4790993]\n",
      "iteration : 4,w : [2.9593174], f : [2.09799887], g : [2.4790993]\n",
      "iteration : 5,w : [2.9593174], f : [2.09799887], g : [2.4790993]\n",
      "iteration : 6,w : [2.9593174], f : [2.09799887], g : [2.4790993]\n",
      "iteration : 7,w : [2.9593174], f : [2.09799887], g : [2.4790993]\n",
      "iteration : 8,w : [2.9593174], f : [2.09799887], g : [2.4790993]\n",
      "iteration : 9,w : [2.9593174], f : [2.09799887], g : [2.4790993]\n",
      "iteration : 10,w : [2.9593174], f : [2.09799887], g : [2.4790993]\n",
      "iteration : 11,w : [2.9593174], f : [2.09799887], g : [2.4790993]\n",
      "iteration : 12,w : [2.9593174], f : [2.09799887], g : [2.4790993]\n",
      "iteration : 13,w : [2.9593174], f : [2.09799887], g : [2.4790993]\n",
      "iteration : 14,w : [2.9593174], f : [2.09799887], g : [2.4790993]\n",
      "iteration : 15,w : [2.9593174], f : [2.09799887], g : [2.4790993]\n",
      "iteration : 16,w : [2.9593174], f : [2.09799887], g : [2.4790993]\n",
      "iteration : 17,w : [2.9593174], f : [2.09799887], g : [2.4790993]\n",
      "iteration : 18,w : [2.9593174], f : [2.09799887], g : [2.4790993]\n",
      "iteration : 19,w : [2.9593174], f : [2.09799887], g : [2.4790993]\n",
      "iteration : 20,w : [2.9593174], f : [2.09799887], g : [2.4790993]\n",
      "iteration : 21,w : [2.9593174], f : [2.09799887], g : [2.4790993]\n",
      "iteration : 22,w : [2.9593174], f : [2.09799887], g : [2.4790993]\n",
      "iteration : 23,w : [2.9593174], f : [2.09799887], g : [2.4790993]\n",
      "iteration : 24,w : [2.9593174], f : [2.09799887], g : [2.4790993]\n",
      "iteration : 25,w : [2.9593174], f : [2.09799887], g : [2.4790993]\n",
      "iteration : 26,w : [2.9593174], f : [2.09799887], g : [2.4790993]\n",
      "iteration : 27,w : [2.9593174], f : [2.09799887], g : [2.4790993]\n",
      "iteration : 28,w : [2.9593174], f : [2.09799887], g : [2.4790993]\n",
      "iteration : 29,w : [2.9593174], f : [2.09799887], g : [2.4790993]\n",
      "iteration : 30,w : [2.9593174], f : [2.09799887], g : [2.4790993]\n",
      "iteration : 31,w : [2.9593174], f : [2.09799887], g : [2.4790993]\n",
      "iteration : 32,w : [2.9593174], f : [2.09799887], g : [2.4790993]\n",
      "iteration : 33,w : [2.9593174], f : [2.09799887], g : [2.4790993]\n",
      "iteration : 34,w : [2.9593174], f : [2.09799887], g : [2.4790993]\n",
      "iteration : 35,w : [2.9593174], f : [2.09799887], g : [2.4790993]\n",
      "iteration : 36,w : [2.9593174], f : [2.09799887], g : [2.4790993]\n",
      "iteration : 37,w : [2.9593174], f : [2.09799887], g : [2.4790993]\n",
      "iteration : 38,w : [2.9593174], f : [2.09799887], g : [2.4790993]\n",
      "iteration : 39,w : [2.9593174], f : [2.09799887], g : [2.4790993]\n",
      "iteration : 40,w : [2.9593174], f : [2.09799887], g : [2.4790993]\n",
      "iteration : 41,w : [2.9593174], f : [2.09799887], g : [2.4790993]\n",
      "iteration : 42,w : [2.9593174], f : [2.09799887], g : [2.4790993]\n",
      "iteration : 43,w : [2.9593174], f : [2.09799887], g : [2.4790993]\n",
      "iteration : 44,w : [2.9593174], f : [2.09799887], g : [2.4790993]\n",
      "iteration : 45,w : [2.9593174], f : [2.09799887], g : [2.4790993]\n",
      "iteration : 46,w : [2.9593174], f : [2.09799887], g : [2.4790993]\n",
      "iteration : 47,w : [2.9593174], f : [2.09799887], g : [2.4790993]\n",
      "iteration : 48,w : [2.9593174], f : [2.09799887], g : [2.4790993]\n",
      "iteration : 49,w : [2.9593174], f : [2.09799887], g : [2.4790993]\n"
     ]
    }
   ],
   "source": [
    "stochasticGradientD()"
   ]
  }
 ],
 "metadata": {
  "kernelspec": {
   "display_name": "Python 3",
   "language": "python",
   "name": "python3"
  },
  "language_info": {
   "codemirror_mode": {
    "name": "ipython",
    "version": 3
   },
   "file_extension": ".py",
   "mimetype": "text/x-python",
   "name": "python",
   "nbconvert_exporter": "python",
   "pygments_lexer": "ipython3",
   "version": "3.6.4"
  }
 },
 "nbformat": 4,
 "nbformat_minor": 2
}
