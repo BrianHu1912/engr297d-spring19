{
 "cells": [
  {
   "cell_type": "markdown",
   "metadata": {},
   "source": [
    "# Assignment 1\n",
    "\n",
    "1. tuple\n",
    "2. dictionary\n",
    "3. while loop\n",
    "4. linear search\n",
    "5. Bubble sort"
   ]
  },
  {
   "cell_type": "markdown",
   "metadata": {},
   "source": [
    "## Tuple"
   ]
  },
  {
   "cell_type": "code",
   "execution_count": 1,
   "metadata": {},
   "outputs": [],
   "source": [
    "# what is a python tuple? Briefly describe with an example(tuple+finind an element)."
   ]
  },
  {
   "cell_type": "markdown",
   "metadata": {},
   "source": [
    "A tuple is a data structure that is fundamentally similar to a list, except its elements are immutable. It looks like this:"
   ]
  },
  {
   "cell_type": "code",
   "execution_count": 1,
   "metadata": {},
   "outputs": [
    {
     "name": "stdout",
     "output_type": "stream",
     "text": [
      "(1, 2, 3, 4)\n",
      "1\n"
     ]
    }
   ],
   "source": [
    "tupleA = (1,2,3,4)\n",
    "print(tupleA)\n",
    "print(tupleA[0]) # you can iterate and index a tuple as if it were a list. "
   ]
  },
  {
   "cell_type": "markdown",
   "metadata": {},
   "source": [
    "## Dictionary"
   ]
  },
  {
   "cell_type": "code",
   "execution_count": 2,
   "metadata": {},
   "outputs": [],
   "source": [
    "# what is a python dictionary? Briefly describe with an example(dictionary+finding an element)."
   ]
  },
  {
   "cell_type": "markdown",
   "metadata": {},
   "source": [
    "A dictionary is the python equivalent of a hash table: it's data structure holding key value pairs. "
   ]
  },
  {
   "cell_type": "code",
   "execution_count": 5,
   "metadata": {},
   "outputs": [
    {
     "data": {
      "text/plain": [
       "1"
      ]
     },
     "execution_count": 5,
     "metadata": {},
     "output_type": "execute_result"
    }
   ],
   "source": [
    "dictA = {\"a\":1, \"b\":2}\n",
    "dictA[\"a\"] # access an element by inputting the key. "
   ]
  },
  {
   "cell_type": "markdown",
   "metadata": {},
   "source": [
    "## While Loop"
   ]
  },
  {
   "cell_type": "code",
   "execution_count": 6,
   "metadata": {},
   "outputs": [
    {
     "data": {
      "text/plain": [
       "12"
      ]
     },
     "execution_count": 6,
     "metadata": {},
     "output_type": "execute_result"
    }
   ],
   "source": [
    "# A while loop is used to loop a process until a certain (boolean) condition is fulfilled\n",
    "# You use a while loop over a for loop when your loop condition is less numerically defined. \n",
    "#For example if your loop involves halving until a number is 1, it's better to use a while loop instead of a for loop.\n",
    "#Example: Euclid's Algorithm\n",
    "\n",
    "def euclidGCD(a,b):\n",
    "    while(b):\n",
    "        a, b = b, a % b\n",
    "    return a\n",
    "\n",
    "euclidGCD(36,24)"
   ]
  },
  {
   "cell_type": "markdown",
   "metadata": {},
   "source": [
    "## Linear Search"
   ]
  },
  {
   "cell_type": "code",
   "execution_count": 7,
   "metadata": {},
   "outputs": [],
   "source": [
    "def element_present(L,e):\n",
    "    # return True/False depending if element 'e' is present in list 'L'\n",
    "    return (e in L)"
   ]
  },
  {
   "cell_type": "code",
   "execution_count": 8,
   "metadata": {},
   "outputs": [
    {
     "name": "stdout",
     "output_type": "stream",
     "text": [
      "True\n",
      "True\n",
      "False\n",
      "False\n",
      "True\n"
     ]
    }
   ],
   "source": [
    "print(element_present([1,4,2,3,6,0],1))\n",
    "print(element_present([1,4,2,3,6,0],3))\n",
    "print(element_present([1,4,2,3,6,0],10))\n",
    "print(element_present([1,4,2,3,6,0],9))\n",
    "print(element_present([1,4,2,3,6,0],2))"
   ]
  },
  {
   "cell_type": "markdown",
   "metadata": {},
   "source": [
    "## Sorting"
   ]
  },
  {
   "cell_type": "code",
   "execution_count": 10,
   "metadata": {},
   "outputs": [],
   "source": [
    "def sort_list(L):\n",
    "    # return a list sorted in ascending order\n",
    "    # Quicksort:\n",
    "    less = []\n",
    "    equal = []\n",
    "    greater = []\n",
    "    \n",
    "    if len(L) > 1:\n",
    "        pivot = L[0]\n",
    "        for i in L:\n",
    "            if i < pivot:\n",
    "                less.append(i)\n",
    "            elif i == pivot:\n",
    "                equal.append(i)\n",
    "            else:\n",
    "                greater.append(i)\n",
    "        return sort_list(less) + equal + sort_list(greater)\n",
    "    else:\n",
    "        return L"
   ]
  },
  {
   "cell_type": "code",
   "execution_count": 11,
   "metadata": {},
   "outputs": [
    {
     "name": "stdout",
     "output_type": "stream",
     "text": [
      "[0, 1, 3, 4, 5, 7, 9]\n"
     ]
    }
   ],
   "source": [
    "print(sort_list([9,3,5,1,4,7,0]))"
   ]
  },
  {
   "cell_type": "code",
   "execution_count": null,
   "metadata": {},
   "outputs": [],
   "source": []
  }
 ],
 "metadata": {
  "kernelspec": {
   "display_name": "Python 3",
   "language": "python",
   "name": "python3"
  },
  "language_info": {
   "codemirror_mode": {
    "name": "ipython",
    "version": 3
   },
   "file_extension": ".py",
   "mimetype": "text/x-python",
   "name": "python",
   "nbconvert_exporter": "python",
   "pygments_lexer": "ipython3",
   "version": "3.6.4"
  }
 },
 "nbformat": 4,
 "nbformat_minor": 2
}
