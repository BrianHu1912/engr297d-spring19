{
 "cells": [
  {
   "cell_type": "code",
   "execution_count": 2,
   "metadata": {},
   "outputs": [],
   "source": [
    "import tensorflow as tf\n",
    "import numpy as np\n",
    "import sklearn as sk\n",
    "import matplotlib.pyplot as plt\n",
    "%matplotlib inline\n",
    "import pandas as pd"
   ]
  },
  {
   "cell_type": "markdown",
   "metadata": {},
   "source": [
    "# Part 1"
   ]
  },
  {
   "cell_type": "code",
   "execution_count": 3,
   "metadata": {},
   "outputs": [],
   "source": [
    "#Pickle Function\n",
    "def unpickle(file):\n",
    "    import pickle\n",
    "    with open(file, 'rb') as fo:\n",
    "        dict = pickle.load(fo, encoding='bytes')\n",
    "    return dict"
   ]
  },
  {
   "cell_type": "code",
   "execution_count": 4,
   "metadata": {},
   "outputs": [],
   "source": [
    "batch1 = unpickle('data_batch_1')\n",
    "batch2 = unpickle('data_batch_2')\n",
    "batch3 = unpickle('data_batch_3')\n",
    "batch4 = unpickle('data_batch_4')\n",
    "batch5 = unpickle('data_batch_5')\n",
    "batchT = unpickle('test_batch')\n",
    "batchM = unpickle('batches.meta')"
   ]
  },
  {
   "cell_type": "code",
   "execution_count": 9,
   "metadata": {},
   "outputs": [
    {
     "data": {
      "text/plain": [
       "dict_keys([b'batch_label', b'labels', b'data', b'filenames'])"
      ]
     },
     "execution_count": 9,
     "metadata": {},
     "output_type": "execute_result"
    }
   ],
   "source": [
    "batch1.keys()"
   ]
  },
  {
   "cell_type": "code",
   "execution_count": 6,
   "metadata": {},
   "outputs": [
    {
     "data": {
      "text/plain": [
       "array([[ 59,  43,  50, ..., 140,  84,  72],\n",
       "       [154, 126, 105, ..., 139, 142, 144],\n",
       "       [255, 253, 253, ...,  83,  83,  84],\n",
       "       ...,\n",
       "       [ 71,  60,  74, ...,  68,  69,  68],\n",
       "       [250, 254, 211, ..., 215, 255, 254],\n",
       "       [ 62,  61,  60, ..., 130, 130, 131]], dtype=uint8)"
      ]
     },
     "execution_count": 6,
     "metadata": {},
     "output_type": "execute_result"
    }
   ],
   "source": [
    "batch1[b'data']"
   ]
  },
  {
   "cell_type": "code",
   "execution_count": 7,
   "metadata": {},
   "outputs": [],
   "source": [
    "labels1 = batch1[b'labels']\n",
    "\n",
    "def one_hot_encode(x):\n",
    "    \"\"\"\n",
    "        argument\n",
    "            - x: a list of labels\n",
    "        return\n",
    "            - one hot encoding matrix (number of labels, number of class)\n",
    "    \"\"\"\n",
    "    encoded = np.zeros((len(x), 10))\n",
    "    \n",
    "    for idx, val in enumerate(x):\n",
    "        encoded[idx][val] = 1\n",
    "    \n",
    "    return encoded\n",
    "\n",
    "labels1E = one_hot_encode(labels1)"
   ]
  },
  {
   "cell_type": "markdown",
   "metadata": {},
   "source": [
    "# Part 2"
   ]
  },
  {
   "cell_type": "code",
   "execution_count": 8,
   "metadata": {},
   "outputs": [],
   "source": [
    "#Normalize the data \n",
    "from sklearn import preprocessing"
   ]
  },
  {
   "cell_type": "code",
   "execution_count": 13,
   "metadata": {},
   "outputs": [
    {
     "data": {
      "text/plain": [
       "(50000, 3072)"
      ]
     },
     "execution_count": 13,
     "metadata": {},
     "output_type": "execute_result"
    }
   ],
   "source": [
    "all_batches=np.vstack((batch1[b'data'],batch2[b'data'],batch3[b'data'],batch4[b'data'],batch5[b'data']))\n",
    "\n",
    "XNormal = preprocessing.normalize(all_batches, norm='l2')\n",
    "XNormal.shape"
   ]
  },
  {
   "cell_type": "code",
   "execution_count": 21,
   "metadata": {},
   "outputs": [
    {
     "data": {
      "text/plain": [
       "(3072,)"
      ]
     },
     "execution_count": 21,
     "metadata": {},
     "output_type": "execute_result"
    }
   ],
   "source": [
    "XNormal[0].shape"
   ]
  },
  {
   "cell_type": "code",
   "execution_count": 18,
   "metadata": {},
   "outputs": [
    {
     "data": {
      "text/plain": [
       "(50000, 32, 32, 3)"
      ]
     },
     "execution_count": 18,
     "metadata": {},
     "output_type": "execute_result"
    }
   ],
   "source": [
    "X = all_batches.reshape(50000,3,32,32).transpose(0,2,3,1)\n",
    "X.shape"
   ]
  },
  {
   "cell_type": "code",
   "execution_count": 19,
   "metadata": {},
   "outputs": [
    {
     "data": {
      "text/plain": [
       "(32, 32, 3)"
      ]
     },
     "execution_count": 19,
     "metadata": {},
     "output_type": "execute_result"
    }
   ],
   "source": [
    "X[0].shape"
   ]
  },
  {
   "cell_type": "code",
   "execution_count": 20,
   "metadata": {},
   "outputs": [
    {
     "data": {
      "text/plain": [
       "<matplotlib.image.AxesImage at 0x2711dac0b00>"
      ]
     },
     "execution_count": 20,
     "metadata": {},
     "output_type": "execute_result"
    },
    {
     "data": {
      "image/png": "[encoded data removed]",
      "text/plain": [
       "<Figure size 432x288 with 1 Axes>"
      ]
     },
     "metadata": {
      "needs_background": "light"
     },
     "output_type": "display_data"
    }
   ],
   "source": [
    "plt.imshow(X[0])"
   ]
  },
  {
   "cell_type": "code",
   "execution_count": 23,
   "metadata": {},
   "outputs": [],
   "source": [
    "scaler = preprocessing.StandardScaler()\n",
    "X_scaled = scaler.fit_transform(XNormal)"
   ]
  },
  {
   "cell_type": "code",
   "execution_count": 24,
   "metadata": {},
   "outputs": [],
   "source": [
    "X_scaled = X_scaled.reshape(50000,3,32,32).transpose(0,2,3,1)"
   ]
  },
  {
   "cell_type": "code",
   "execution_count": 25,
   "metadata": {},
   "outputs": [
    {
     "name": "stdout",
     "output_type": "stream",
     "text": [
      "-6.307491566085824e-16\n",
      "1.0000000000000007\n"
     ]
    }
   ],
   "source": [
    "print(X_scaled.mean())\n",
    "print(X_scaled.std())\n",
    "#Close to Z(0,1) this is good"
   ]
  },
  {
   "cell_type": "code",
   "execution_count": 26,
   "metadata": {},
   "outputs": [
    {
     "name": "stderr",
     "output_type": "stream",
     "text": [
      "Clipping input data to the valid range for imshow with RGB data ([0..1] for floats or [0..255] for integers).\n"
     ]
    },
    {
     "data": {
      "text/plain": [
       "<matplotlib.image.AxesImage at 0x2711db5e4e0>"
      ]
     },
     "execution_count": 26,
     "metadata": {},
     "output_type": "execute_result"
    },
    {
     "data": {
      "image/png": "[encoded data removed]",
      "text/plain": [
       "<Figure size 432x288 with 1 Axes>"
      ]
     },
     "metadata": {
      "needs_background": "light"
     },
     "output_type": "display_data"
    }
   ],
   "source": [
    "plt.imshow(X_scaled[0])"
   ]
  },
  {
   "cell_type": "markdown",
   "metadata": {},
   "source": [
    "# Part 3"
   ]
  },
  {
   "cell_type": "code",
   "execution_count": 30,
   "metadata": {},
   "outputs": [],
   "source": [
    "#Pavani had a great idea to do a Python Class to set the training and splitting up. I have modified it for my own code. \n",
    "\n",
    "class Cifar():\n",
    "    \n",
    "    def __init__(self):\n",
    "        self.i = 0\n",
    "        \n",
    "        self.all_train_batches = [batch1,batch2,batch3,batch4,batch5]\n",
    "        self.test_batch = [batchT]\n",
    "        \n",
    "        self.training_images = None\n",
    "        self.training_labels = None\n",
    "        \n",
    "        self.test_images = None\n",
    "        self.test_labels = None\n",
    "    \n",
    "    def set_up_images(self):\n",
    "        \n",
    "        print(\"Setting Up Training Images and Labels\")\n",
    "        \n",
    "        self.training_images = np.vstack([d[b\"data\"] for d in self.all_train_batches])\n",
    "        train_len = len(self.training_images)\n",
    "        print(train_len)\n",
    "        self.training_images = self.training_images.reshape(train_len,3,32,32).transpose(0,2,3,1)/255\n",
    "        \n",
    "        self.training_labels = one_hot_encode(np.hstack([d[b\"labels\"] for d in self.all_train_batches]))\n",
    "        \n",
    "        print(\"Setting Up Test Images and Labels\")\n",
    "        \n",
    "        self.test_images = np.vstack([d[b\"data\"] for d in self.test_batch])\n",
    "        test_len = len(self.test_images)\n",
    "        print(test_len)\n",
    "        self.test_images = self.test_images.reshape(test_len,3,32,32).transpose(0,2,3,1)/255\n",
    "        self.test_labels = one_hot_encode(np.hstack([d[b\"labels\"] for d in self.test_batch]))\n",
    "\n",
    "        \n",
    "    def next_batch(self, batch_size):\n",
    "        x = self.training_images[self.i:self.i+batch_size].reshape(100,32,32,3)\n",
    "        y = self.training_labels[self.i:self.i+batch_size]\n",
    "        self.i = (self.i + batch_size) % len(self.training_images)\n",
    "        return x, y\n"
   ]
  },
  {
   "cell_type": "code",
   "execution_count": 48,
   "metadata": {},
   "outputs": [
    {
     "name": "stdout",
     "output_type": "stream",
     "text": [
      "Setting Up Training Images and Labels\n",
      "50000\n",
      "Setting Up Test Images and Labels\n",
      "10000\n"
     ]
    }
   ],
   "source": [
    "cf = Cifar()\n",
    "cf.set_up_images()"
   ]
  },
  {
   "cell_type": "code",
   "execution_count": 50,
   "metadata": {},
   "outputs": [],
   "source": [
    "input_ph = tf.placeholder(dtype = tf.float32, shape=[None,32,32,3])\n",
    "output_ph = tf.placeholder(dtype=tf.float32, shape=[None,10])\n",
    "\n",
    "hold_prob = tf.placeholder(tf.float32)"
   ]
  },
  {
   "cell_type": "code",
   "execution_count": 51,
   "metadata": {},
   "outputs": [],
   "source": [
    "def init_weights(shape):\n",
    "    init_random_dist = tf.truncated_normal(shape, stddev=0.1)\n",
    "    return tf.Variable(init_random_dist)\n",
    "\n",
    "def init_bias(shape):\n",
    "    init_bias_vals = tf.constant(0.1, shape=shape)\n",
    "    return tf.Variable(init_bias_vals)\n",
    "\n",
    "def conv2d(x, W):\n",
    "    return tf.nn.conv2d(x, W, strides=[1, 1, 1, 1], padding='SAME')\n",
    "\n",
    "def max_pool_2by2(x):\n",
    "    return tf.nn.max_pool(x, ksize=[1, 2, 2, 1],\n",
    "                          strides=[1, 2, 2, 1], padding='SAME')\n",
    "\n",
    "def convolutional_layer(input_x, shape):\n",
    "    W = init_weights(shape)\n",
    "    b = init_bias([shape[3]])\n",
    "    return tf.nn.relu(conv2d(input_x, W) + b)\n",
    "\n",
    "def normal_full_layer(input_layer, size):\n",
    "    input_size = int(input_layer.get_shape()[1])\n",
    "    W = init_weights([input_size, size])\n",
    "    b = init_bias([size])\n",
    "    return tf.matmul(input_layer, W) + b"
   ]
  },
  {
   "cell_type": "code",
   "execution_count": 52,
   "metadata": {},
   "outputs": [
    {
     "name": "stdout",
     "output_type": "stream",
     "text": [
      "(?, 128)\n",
      "(?, 256)\n",
      "(?, 512)\n",
      "(?, 1024)\n"
     ]
    }
   ],
   "source": [
    "convo_1 = convolutional_layer(input_ph,shape=[3,3,3,64])\n",
    "convo_1.get_shape()\n",
    "convo_1_pooling = max_pool_2by2(convo_1)\n",
    "convo_1_pooling.get_shape()\n",
    "\n",
    "convo_2 = convolutional_layer(convo_1_pooling,shape=[3,3,64,128])\n",
    "convo_2_pooling = max_pool_2by2(convo_2)\n",
    "\n",
    "convo_3 = convolutional_layer(convo_2_pooling,shape=[5,5,128,256])\n",
    "convo_3_pooling = max_pool_2by2(convo_3)\n",
    "\n",
    "convo_4 = convolutional_layer(convo_3_pooling,shape=[5,5,256,512])\n",
    "convo_4_pooling = max_pool_2by2(convo_4)\n",
    "convo_4_flat = tf.contrib.layers.flatten(convo_4) \n",
    "\n",
    "full_layer_1 = tf.nn.relu(normal_full_layer(convo_4_flat,128))\n",
    "full_1_dropout = tf.nn.dropout(full_layer_1,keep_prob=hold_prob)\n",
    "full1 = tf.layers.batch_normalization(full_1_dropout)\n",
    "print(full_layer_1.get_shape())\n",
    "\n",
    "full_layer_2 = tf.nn.relu(normal_full_layer(full1,256))\n",
    "full_2_dropout = tf.nn.dropout(full_layer_2,keep_prob=hold_prob)\n",
    "full2 = tf.layers.batch_normalization(full_2_dropout)\n",
    "print(full_layer_2.get_shape())\n",
    "\n",
    "full_layer_3 = tf.nn.relu(normal_full_layer(full2,512))\n",
    "full_3_dropout = tf.nn.dropout(full_layer_3,keep_prob=hold_prob)\n",
    "full3 = tf.layers.batch_normalization(full_3_dropout)\n",
    "print(full_layer_3.get_shape())\n",
    "\n",
    "full_layer_4 = tf.nn.relu(normal_full_layer(full3,1024))\n",
    "full_4_dropout = tf.nn.dropout(full_layer_4,keep_prob=hold_prob)\n",
    "full4 = tf.layers.batch_normalization(full_4_dropout)\n",
    "print(full_layer_4.get_shape())"
   ]
  },
  {
   "cell_type": "code",
   "execution_count": 53,
   "metadata": {},
   "outputs": [
    {
     "data": {
      "text/plain": [
       "TensorShape([Dimension(None), Dimension(10)])"
      ]
     },
     "execution_count": 53,
     "metadata": {},
     "output_type": "execute_result"
    }
   ],
   "source": [
    "y_pred = normal_full_layer(full4,10)\n",
    "y_pred.get_shape()"
   ]
  },
  {
   "cell_type": "code",
   "execution_count": 54,
   "metadata": {},
   "outputs": [],
   "source": [
    "cross_entropy = tf.reduce_mean(tf.nn.softmax_cross_entropy_with_logits(labels=output_ph,logits=y_pred))\n",
    "\n",
    "Adam_optimizer = tf.train.AdamOptimizer(learning_rate=0.001).minimize(cross_entropy)"
   ]
  },
  {
   "cell_type": "code",
   "execution_count": 47,
   "metadata": {},
   "outputs": [],
   "source": [
    "#TO-DO : reset session\n",
    "def tf_reset():\n",
    "    try:\n",
    "        sess.close()\n",
    "    except:\n",
    "        pass\n",
    "    tf.reset_default_graph()\n",
    "    return tf.Session()\n",
    "\n"
   ]
  },
  {
   "cell_type": "code",
   "execution_count": null,
   "metadata": {},
   "outputs": [
    {
     "name": "stdout",
     "output_type": "stream",
     "text": [
      "Currently on step 0\n",
      "Accuracy is: 0.0811\n",
      "Loss is: 76.827324\n",
      "\n",
      "\n",
      "Currently on step 100\n",
      "Accuracy is: 0.1\n",
      "Loss is: 2.3323302\n",
      "\n",
      "\n",
      "Currently on step 200\n",
      "Accuracy is: 0.1\n",
      "Loss is: 2.3068688\n",
      "\n",
      "\n",
      "Currently on step 300\n",
      "Accuracy is: 0.1\n",
      "Loss is: 2.306527\n",
      "\n",
      "\n",
      "Currently on step 400\n",
      "Accuracy is: 0.1\n",
      "Loss is: 2.3178558\n",
      "\n",
      "\n",
      "Currently on step 500\n",
      "Accuracy is: 0.1\n",
      "Loss is: 2.308215\n",
      "\n",
      "\n",
      "Currently on step 600\n",
      "Accuracy is: 0.1\n",
      "Loss is: 2.304293\n",
      "\n",
      "\n",
      "Currently on step 700\n",
      "Accuracy is: 0.1\n",
      "Loss is: 2.3072796\n",
      "\n",
      "\n",
      "Currently on step 800\n",
      "Accuracy is: 0.1\n",
      "Loss is: 2.306044\n",
      "\n",
      "\n",
      "Currently on step 900\n",
      "Accuracy is: 0.1\n",
      "Loss is: 2.3126004\n",
      "\n",
      "\n",
      "Currently on step 1000\n",
      "Accuracy is: 0.1\n",
      "Loss is: 2.3084593\n",
      "\n",
      "\n",
      "Currently on step 1100\n",
      "Accuracy is: 0.1\n",
      "Loss is: 2.3041856\n",
      "\n",
      "\n",
      "Currently on step 1200\n",
      "Accuracy is: 0.1\n",
      "Loss is: 2.3068879\n",
      "\n",
      "\n",
      "Currently on step 1300\n",
      "Accuracy is: 0.1\n"
     ]
    }
   ],
   "source": [
    "with tf.Session() as sess:\n",
    "    sess.run(tf.global_variables_initializer())\n",
    "\n",
    "    for i in range(5000):\n",
    "        batch = cf.next_batch(100)\n",
    "        sess.run(Adam_optimizer, feed_dict={input_ph: batch[0], output_ph:batch[1], hold_prob: 0.5})\n",
    "        if i%100 == 0:\n",
    "            \n",
    "            print('Currently on step {}'.format(i))\n",
    "           \n",
    "            # Test the Train Model\n",
    "            matches = tf.equal(tf.argmax(y_pred,1),tf.argmax(output_ph,1))\n",
    "            acc = tf.reduce_mean(tf.cast(matches,tf.float32))\n",
    "            print('Accuracy is:',sess.run(acc,feed_dict={input_ph:cf.test_images,output_ph:cf.test_labels,hold_prob:1.0}))\n",
    "            print('Loss is:',sess.run(cross_entropy,feed_dict={input_ph:cf.test_images,output_ph:cf.test_labels,hold_prob:1.0}))\n",
    "            print('\\n')"
   ]
  },
  {
   "cell_type": "code",
   "execution_count": null,
   "metadata": {},
   "outputs": [],
   "source": [
    "#My computer does not have the memory to complete the entire task."
   ]
  }
 ],
 "metadata": {
  "kernelspec": {
   "display_name": "Python 3",
   "language": "python",
   "name": "python3"
  },
  "language_info": {
   "codemirror_mode": {
    "name": "ipython",
    "version": 3
   },
   "file_extension": ".py",
   "mimetype": "text/x-python",
   "name": "python",
   "nbconvert_exporter": "python",
   "pygments_lexer": "ipython3",
   "version": "3.6.4"
  }
 },
 "nbformat": 4,
 "nbformat_minor": 2
}
